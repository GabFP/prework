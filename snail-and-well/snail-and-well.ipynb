{
 "cells": [
  {
   "cell_type": "markdown",
   "metadata": {},
   "source": [
    "# Snail and well\n",
    "\n",
    "A snail falls at the bottom of a 125 cm well. Each day the snail rises 30 cm. But at night, while sleeping, slides 20 cm because the walls are wet. How many days does it take to escape from the well?\n",
    "\n",
    "TIP: http://puzzles.nigelcoldwell.co.uk/sixtytwo.htm"
   ]
  },
  {
   "cell_type": "markdown",
   "metadata": {},
   "source": [
    "## Solución"
   ]
  },
  {
   "cell_type": "code",
   "execution_count": 2,
   "metadata": {},
   "outputs": [
    {
     "name": "stdout",
     "output_type": "stream",
     "text": [
      "days = 11\n"
     ]
    }
   ],
   "source": [
    "# Assign problem data to variables with representative names\n",
    "# well height, daily advance, night retreat, accumulated distance\n",
    "snailin = True\n",
    "snailstatus = 0\n",
    "snailrises = 30\n",
    "snailslides = 20\n",
    "wellh = 125\n",
    "# Assign 0 to the variable that represents the solution\n",
    "days = 0\n",
    "# Write the code that solves the problem\n",
    "while(snailin):\n",
    "    days += 1\n",
    "    previu_status = snailstatus\n",
    "    snailstatus = snailstatus + snailrises\n",
    "    if(snailstatus >= wellh):\n",
    "        cmperday.append(abs(snailstatus - previu_status))\n",
    "        snailin = False\n",
    "    else:\n",
    "        snailstatus = snailstatus - snailslides\n",
    "        cmperday.append(abs(snailstatus - previu_status))\n",
    "        \n",
    "\n",
    "# Print the result with print('Days =', days)\n",
    "print(\"days =\" , days)"
   ]
  },
  {
   "cell_type": "markdown",
   "metadata": {},
   "source": [
    "## Goals\n",
    "\n",
    "1. Treatment of variables\n",
    "2. Use of loop **while**\n",
    "3. Use of conditional **if-else**\n",
    "4. Print in console"
   ]
  },
  {
   "cell_type": "markdown",
   "metadata": {},
   "source": [
    "## Bonus\n",
    "The distance traveled by the snail is now defined by a list.\n",
    "```\n",
    "advance_cm = [30, 21, 33, 77, 44, 45, 23, 45, 12, 34, 55]\n",
    "```\n",
    "How long does it take to raise the well?\n",
    "\n",
    "What is its maximum displacement in one day? And its minimum?\n",
    "\n",
    "What is its average speed during the day?\n",
    "\n",
    "What is the standard deviation of its displacement during the day?"
   ]
  },
  {
   "cell_type": "code",
   "execution_count": 3,
   "metadata": {},
   "outputs": [
    {
     "name": "stdout",
     "output_type": "stream",
     "text": [
      "days = 4\n",
      "maximum displacement = 77\n",
      "minimum displacement = 21\n",
      "average = 40.25\n",
      "Standard Diviation = 25.024987512484397\n"
     ]
    }
   ],
   "source": [
    "# Assign problem data to variables with representative names\n",
    "# well height, daily advance, night retreat, accumulated distance\n",
    "import statistics\n",
    "cmperday = []\n",
    "snailin = True\n",
    "snailstatus = 0\n",
    "advance_cm = [30, 21, 33, 77, 44, 45, 23, 45, 12, 34, 55]\n",
    "wellh = 125\n",
    "\n",
    "\n",
    "\n",
    "# Assign 0 to the variable that represents the solution\n",
    "days = 0\n",
    "\n",
    "# Write the code that solves the problem\n",
    "while(snailin):\n",
    "    days += 1\n",
    "    previu_status = snailstatus\n",
    "    snailstatus = snailstatus + advance_cm[days-1]\n",
    "    if(snailstatus >= wellh):\n",
    "        cmperday.append(abs(snailstatus - previu_status))\n",
    "        snailin = False\n",
    "    else:\n",
    "        cmperday.append(abs(snailstatus - previu_status))\n",
    "\n",
    "\n",
    "# Print the result with print('Days =', days)\n",
    "print(\"days =\" , days)\n",
    "\n",
    "# What is its maximum displacement in a day? And its minimum?\n",
    "print(\"maximum displacement =\", max(cmperday))\n",
    "print(\"minimum displacement =\", min(cmperday))\n",
    "\n",
    "\n",
    "# What is its average progress?\n",
    "mean = sum(cmperday)/len(cmperday)\n",
    "print(\"average =\", mean)\n",
    "# What is the standard deviation of your displacement during the day?\n",
    "print(\"Standard Diviation =\", statistics.stdev(cmperday))\n"
   ]
  },
  {
   "cell_type": "code",
   "execution_count": null,
   "metadata": {},
   "outputs": [],
   "source": []
  }
 ],
 "metadata": {
  "kernelspec": {
   "display_name": "Python 3",
   "language": "python",
   "name": "python3"
  },
  "language_info": {
   "codemirror_mode": {
    "name": "ipython",
    "version": 3
   },
   "file_extension": ".py",
   "mimetype": "text/x-python",
   "name": "python",
   "nbconvert_exporter": "python",
   "pygments_lexer": "ipython3",
   "version": "3.7.4"
  }
 },
 "nbformat": 4,
 "nbformat_minor": 2
}
